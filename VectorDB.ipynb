{
  "nbformat": 4,
  "nbformat_minor": 0,
  "metadata": {
    "colab": {
      "provenance": []
    },
    "kernelspec": {
      "name": "python3",
      "display_name": "Python 3"
    },
    "language_info": {
      "name": "python"
    }
  },
  "cells": [
    {
      "cell_type": "code",
      "source": [
        "import chromadb\n",
        "from chromadb.config import Settings\n",
        "client = chromadb.PersistentClient(path=\"db/\")\n",
        "\n",
        "#Collection object using the client. It is similar to creating a table in a traditional database.\n",
        "collection = client.create_collection(name=\"Students\")\n",
        "     #genereate some text and add to the collection\n",
        "student_info = \"\"\"\n",
        "Alexandra Thompson, a 19-year-old computer science sophomore with a 3.7 GPA,\n",
        "is a member of the programming and chess clubs who enjoys pizza, swimming, and hiking\n",
        "in her free time in hopes of working at a tech company after graduating from the University of Washington.\n",
        "\"\"\"\n",
        "\n",
        "club_info = \"\"\"\n",
        "The university chess club provides an outlet for students to come together and enjoy playing\n",
        "the classic strategy game of chess. Members of all skill levels are welcome, from beginners learning\n",
        "the rules to experienced tournament players. The club typically meets a few times per week to play casual games,\n",
        "participate in tournaments, analyze famous chess matches, and improve members' skills.\n",
        "\"\"\"\n",
        "\n",
        "university_info = \"\"\"\n",
        "The University of Washington, founded in 1861 in Seattle, is a public research university\n",
        "with over 45,000 students across three campuses in Seattle, Tacoma, and Bothell.\n",
        "As the flagship institution of the six public universities in Washington state,\n",
        "UW encompasses over 500 buildings and 20 million square feet of space,\n",
        "including one of the largest library systems in the world.\"\"\"\n",
        ""
      ],
      "metadata": {
        "id": "wUJArPb39VSn"
      },
      "execution_count": null,
      "outputs": []
    },
    {
      "cell_type": "code",
      "source": [
        "\n",
        "#add function to add text data with metadata and unique IDs\n",
        "#After that, Chroma will automatically download the all-MiniLM-L6-v2 model to convert the text into embeddings and store it in the “Students” collection.\n",
        "collection.add(\n",
        "    documents = [student_info, club_info, university_info],\n",
        "    metadatas = [{\"source\": \"student info\"},{\"source\": \"club info\"},{'source':'university info'}],\n",
        "    ids = [\"id1\", \"id2\", \"id3\"]\n",
        ")"
      ],
      "metadata": {
        "id": "jGUz6lpb9gg3"
      },
      "execution_count": null,
      "outputs": []
    },
    {
      "cell_type": "code",
      "source": [
        "results = collection.query(\n",
        "    query_texts=[\"What is the student name?\"],\n",
        "    n_results=2\n",
        ")\n",
        "\n",
        "results\n",
        ""
      ],
      "metadata": {
        "id": "ma8i2RvF9kA1"
      },
      "execution_count": null,
      "outputs": []
    }
  ]
}