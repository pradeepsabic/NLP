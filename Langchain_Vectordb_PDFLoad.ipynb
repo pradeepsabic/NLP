{
  "nbformat": 4,
  "nbformat_minor": 0,
  "metadata": {
    "colab": {
      "provenance": [],
      "authorship_tag": "ABX9TyOtjxXqo83SKZid0l50E4pr",
      "include_colab_link": true
    },
    "kernelspec": {
      "name": "python3",
      "display_name": "Python 3"
    },
    "language_info": {
      "name": "python"
    }
  },
  "cells": [
    {
      "cell_type": "markdown",
      "metadata": {
        "id": "view-in-github",
        "colab_type": "text"
      },
      "source": [
        "<a href=\"https://colab.research.google.com/github/pradeepsabic/NLP/blob/main/Langchain_Vectordb_PDFLoad.ipynb\" target=\"_parent\"><img src=\"https://colab.research.google.com/assets/colab-badge.svg\" alt=\"Open In Colab\"/></a>"
      ]
    },
    {
      "cell_type": "code",
      "execution_count": 34,
      "metadata": {
        "colab": {
          "base_uri": "https://localhost:8080/"
        },
        "id": "xyr1EG2zLiKA",
        "outputId": "39bfd1bb-b689-42f6-b351-d91f008e0cef"
      },
      "outputs": [
        {
          "output_type": "stream",
          "name": "stdout",
          "text": [
            "Requirement already satisfied: uvicorn in /usr/local/lib/python3.10/dist-packages (0.30.6)\n",
            "Requirement already satisfied: click>=7.0 in /usr/local/lib/python3.10/dist-packages (from uvicorn) (8.1.7)\n",
            "Requirement already satisfied: h11>=0.8 in /usr/local/lib/python3.10/dist-packages (from uvicorn) (0.14.0)\n",
            "Requirement already satisfied: typing-extensions>=4.0 in /usr/local/lib/python3.10/dist-packages (from uvicorn) (4.12.2)\n"
          ]
        }
      ],
      "source": [
        "pip install uvicorn"
      ]
    },
    {
      "cell_type": "code",
      "source": [
        "#pip install pypdf,langchain,langchain-openai,langchain-community,fastapi\n",
        "#for web access from colab uvicorn pyngrok"
      ],
      "metadata": {
        "id": "4LavZRorQtwa"
      },
      "execution_count": null,
      "outputs": []
    },
    {
      "cell_type": "markdown",
      "source": [
        "This will extract all the text from the PDF file and store it in the text variable."
      ],
      "metadata": {
        "id": "1aOZ4pqkTuk3"
      }
    },
    {
      "cell_type": "code",
      "source": [
        "from langchain.document_loaders import PyPDFLoader\n",
        "from langchain.vectorstores import Chroma\n",
        "from langchain.embeddings.openai import OpenAIEmbeddings  # Or other embeddings like Hugging Face\n",
        "from langchain.text_splitter import RecursiveCharacterTextSplitter\n",
        "# Open the PDF file using LangChain's PyPDFLoader\n",
        "pdf_path = 'Pradeep-Summary.pdf'\n",
        "loader = PyPDFLoader(pdf_path)\n",
        "# Load the documents (pages) from the PDF\n",
        "documents = loader.load()\n",
        "# Extract text from each document (page)\n",
        "text = \"\"\n",
        "for doc in documents:\n",
        "    text += doc.page_content\n",
        "\n",
        "# Print or use the extracted text\n",
        "print(text)"
      ],
      "metadata": {
        "colab": {
          "base_uri": "https://localhost:8080/"
        },
        "id": "A4rCwQQdQzwh",
        "outputId": "350f398f-c888-4d01-cd78-12f95670a6a5"
      },
      "execution_count": 14,
      "outputs": [
        {
          "output_type": "stream",
          "name": "stdout",
          "text": [
            "**Pradeep Kumar Sharma – IT Professional, Cloud Computing, NLP, and Deep Learning Expert**  \n",
            " \n",
            "Pradeep Kumar Sharma is a dynamic and versatile IT professional with over 17 years of extensive \n",
            "experience in the fields of Cloud computing, Natural Language Processing (NLP), and Deep Learning. \n",
            "His journey in the tech industry has seen him work with prest igious global organizations like COLT, \n",
            "SDS, and SABIC, where he honed his expertise in cutting -edge Microsoft technologies, Azure DevOps, \n",
            "and cloud infrastructures. Throughout his career, Pradeep has built a reputation for driving \n",
            "innovation, delivering re sults, and transforming complex business challenges into scalable and \n",
            "efficient solutions.  \n",
            " \n",
            "### **Professional Expertise and Experience**  \n",
            " \n",
            "#### Cloud Computing and Azure DevOps Mastery  \n",
            "Pradeep has been at the forefront of the cloud computing revolution, wo rking with Microsoft Azure, \n",
            "one of the leading cloud platforms, to develop and manage complex cloud infrastructures. His in -\n",
            "depth knowledge of cloud architecture, automation, and orchestration has enabled him to design \n",
            "and implement scalable solutions for various organizations. His expertise extends to areas like \n",
            "virtualization, hybrid cloud environments, and containerization, ensuring seamless cloud migrations, \n",
            "optimizing cloud costs, and enhancing security and compliance measures.  \n",
            " \n",
            "At SABIC, a global lea der in diversified chemicals, Pradeep currently serves as a Cloud/Azure DevOps \n",
            "Consultant. In this role, he is responsible for the end -to-end management of cloud operations, \n",
            "overseeing infrastructure as a service (IaaS), platform as a service (PaaS), and s oftware as a service \n",
            "(SaaS) solutions. His focus is on optimizing cloud services to support business objectives, ensuring \n",
            "high availability, performance, and disaster recovery strategies. He has also worked extensively with \n",
            "tools like Azure Resource Manage r, Azure DevOps Pipelines, and Terraform for infrastructure \n",
            "automation and continuous integration/continuous deployment (CI/CD).  \n",
            " \n",
            "#### Multi -Work Stream Project Leadership  \n",
            "With his deep understanding of both technology and business, Pradeep has led multipl e complex, \n",
            "multi -work stream projects that span cloud, business automation, and digital transformation \n",
            "initiatives. His project management acumen, combined with his technical expertise, has allowed him \n",
            "to effectively manage diverse teams, align project goa ls with strategic business objectives, and \n",
            "deliver successful outcomes within tight deadlines.  \n",
            " \n",
            "At SABIC, Pradeep’s leadership role involves creating and executing detailed project delivery \n",
            "roadmaps, ensuring that all work streams are on track and aligned  with client expectations. He is \n",
            "also adept at managing stakeholder communication and building strong relationships with clients, \n",
            "ensuring that their vision is seamlessly translated into technical solutions. His proactive approach ensures that risks are mi tigated, resources are optimized, and projects are completed on time and \n",
            "within budget.  \n",
            " \n",
            "#### Business Automation Workflow (BAW) and Robotic Process Automation (RPA)  \n",
            "Another facet of Pradeep’s expertise lies in Business Automation Workflow (BAW) and Roboti c \n",
            "Process Automation (RPA). These technologies enable businesses to automate routine, manual \n",
            "processes, thereby improving operational efficiency and reducing costs. Pradeep has worked \n",
            "extensively with RPA platforms to design and deploy automated workflows that streamline business \n",
            "operations and improve overall productivity.  \n",
            " \n",
            "He has implemented RPA solutions that automate data extraction, report generation, and process \n",
            "monitoring across various departments, contributing to significant cost savings for his c lients. \n",
            "Pradeep’s ability to integrate RPA with other enterprise systems, such as ERP and CRM platforms, \n",
            "has been instrumental in creating a cohesive, end -to-end automated business environment for his \n",
            "clients.  \n",
            " \n",
            "#### Natural Language Processing (NLP) and De ep Learning with PyTorch  \n",
            "Beyond cloud computing, Pradeep is highly skilled in the realm of Natural Language Processing (NLP) \n",
            "and Deep Learning, specifically using frameworks like PyTorch. His interest in NLP led him to dive \n",
            "deep into areas such as text ana lytics, sentiment analysis, chatbot development, and conversational \n",
            "AI. He has applied his knowledge to develop robust language models capable of understanding and \n",
            "interpreting human language, making him a key player in today’s AI -driven business landscape . \n",
            " \n",
            "Pradeep’s proficiency with tools like LangChain, Hugging Face Transformers, and OpenAI models has \n",
            "allowed him to design advanced NLP solutions for tasks such as sentiment analysis, question \n",
            "answering, and information retrieval. His experience with vecto r databases and Retrieval -\n",
            "Augmented Generation (RAG) has been particularly valuable in optimizing search and \n",
            "recommendation systems. Whether it's fine -tuning pre -trained models or building NLP systems from \n",
            "scratch, Pradeep’s expertise enables businesses to  leverage AI to improve customer interactions and \n",
            "make data -driven decisions.  \n",
            " \n",
            "#### Chatbot Development and Sentiment Analysis  \n",
            "In the growing field of AI -driven customer service, Pradeep offers specialized services in chatbot \n",
            "development and sentiment anal ysis. His deep understanding of NLP frameworks, coupled with his \n",
            "hands -on experience with chatbot platforms, enables him to build intelligent, conversational \n",
            "systems that enhance user experiences. These chatbots are capable of handling a wide range of \n",
            "quer ies, offering instant responses, and reducing customer service workloads.  \n",
            " In sentiment analysis, Pradeep has developed models that help businesses gain valuable insights into \n",
            "customer emotions and opinions by analyzing vast amounts of unstructured text da ta. By employing \n",
            "sophisticated NLP techniques, he enables businesses to identify trends, gauge customer satisfaction, \n",
            "and make informed decisions based on real -time sentiment analysis.  \n",
            " \n",
            "### **Technical Proficiency**  \n",
            "Pradeep’s technical proficiency is vast and spans multiple domains, including:  \n",
            " \n",
            "- **Cloud Platforms:** Azure, AWS, GCP  \n",
            "- **DevOps Tools:** Azure DevOps Pipelines, Jenkins, Docker, Kubernetes, Terraform, Ansible  \n",
            "- **Programming Languages:** Python, C#, .NET , JavaScript  \n",
            "- **NLP and Deep Learning:** PyTorch, TensorFlow, Hugging Face, LangChain, OpenAI, LLaMA, \n",
            "Mistral  \n",
            "- **RPA Tools:** UiPath, Blue Prism, Automation Anywhere  \n",
            "- **Data Engineering and Analytics:** Apache Kafka, Apache Spark, Power BI  \n",
            "- **Database Management:** SQL Server, MySQL, Cosmos DB, Vector Databases  \n",
            " \n",
            "His hands -on experience with these tools allows him to integrate technologies across diverse \n",
            "environments, ensuring that solutions are robust, scalable, and adaptable to evolving business \n",
            "needs.  His ability to stay at the cutting edge of technology trends makes him a valuable asset to any \n",
            "organization.  \n",
            " \n",
            "### **Client -Focused Solutions and Innovation**  \n",
            "Throughout his career, Pradeep has maintained a client -focused approach, understanding the \n",
            "specif ic needs of each business and tailoring solutions that meet their unique challenges. His ability \n",
            "to bridge the gap between technical and non -technical stakeholders ensures that his solutions are \n",
            "practical, efficient, and aligned with the client’s vision. B y consistently delivering innovative, data -\n",
            "driven solutions, Pradeep has helped his clients remain competitive in a rapidly changing market.  \n",
            " \n",
            "Pradeep’s innovation is not limited to his technical abilities; he also excels in mentoring and coaching \n",
            "teams, fo stering a culture of learning and continuous improvement. His ability to guide and \n",
            "empower teams to achieve excellence has made him a key contributor to the success of numerous \n",
            "projects.  \n",
            " \n",
            "### **Conclusion**  Pradeep Kumar Sharma stands out as a leader in th e IT, Cloud, NLP, and Deep Learning fields, with a \n",
            "proven track record of delivering successful projects and driving business transformation. His \n",
            "passion for innovation, combined with his technical expertise and leadership abilities, has made him \n",
            "an invalu able asset to every organization he has worked with. As the tech industry continues to \n",
            "evolve, Pradeep remains committed to staying at the cutting edge, ensuring that the solutions he \n",
            "delivers not only meet current demands but also anticipate future needs.  \n",
            " \n"
          ]
        }
      ]
    },
    {
      "cell_type": "markdown",
      "source": [
        "Clearning and preporcessing of the text"
      ],
      "metadata": {
        "id": "h892c6XxYJuc"
      }
    },
    {
      "cell_type": "code",
      "source": [
        "import re\n",
        "# Remove extra whitespace and new lines\n",
        "text = re.sub(r'\\s+', ' ', text)\n",
        "# Remove numbers\n",
        "#text = re.sub(r'\\d+', '', text)\n",
        "# Remove punctuation\n",
        "text = re.sub(r'[^\\w\\s]', '', text)\n",
        "# Remove ###, **, and -\n",
        "text = re.sub(r'[#\\*\\-]+', '', text)\n",
        "# Remove leading/trailing whitespace\n",
        "text = text.strip()\n",
        "\n",
        "print(text)"
      ],
      "metadata": {
        "colab": {
          "base_uri": "https://localhost:8080/"
        },
        "id": "OGw7LCGwTxzl",
        "outputId": "2705b9a0-8284-4bef-caa0-04941f82f8e9"
      },
      "execution_count": 8,
      "outputs": [
        {
          "output_type": "stream",
          "name": "stdout",
          "text": [
            "Pradeep Kumar Sharma  IT Professional Cloud Computing NLP and Deep Learning Expert Pradeep Kumar Sharma is a dynamic and versatile IT professional with over 17 years of extensive experience in the fields of Cloud computing Natural Language Processing NLP and Deep Learning His journey in the tech industry has seen him work with prest igious global organizations like COLT SDS and SABIC where he honed his expertise in cutting edge Microsoft technologies Azure DevOps and cloud infrastructures Throughout his career Pradeep has built a reputation for driving innovation delivering re sults and transforming complex business challenges into scalable and efficient solutions  Professional Expertise and Experience  Cloud Computing and Azure DevOps Mastery Pradeep has been at the forefront of the cloud computing revolution wo rking with Microsoft Azure one of the leading cloud platforms to develop and manage complex cloud infrastructures His in  depth knowledge of cloud architecture automation and orchestration has enabled him to design and implement scalable solutions for various organizations His expertise extends to areas like virtualization hybrid cloud environments and containerization ensuring seamless cloud migrations optimizing cloud costs and enhancing security and compliance measures At SABIC a global lea der in diversified chemicals Pradeep currently serves as a CloudAzure DevOps Consultant In this role he is responsible for the end toend management of cloud operations overseeing infrastructure as a service IaaS platform as a service PaaS and s oftware as a service SaaS solutions His focus is on optimizing cloud services to support business objectives ensuring high availability performance and disaster recovery strategies He has also worked extensively with tools like Azure Resource Manage r Azure DevOps Pipelines and Terraform for infrastructure automation and continuous integrationcontinuous deployment CICD  Multi Work Stream Project Leadership With his deep understanding of both technology and business Pradeep has led multipl e complex multi work stream projects that span cloud business automation and digital transformation initiatives His project management acumen combined with his technical expertise has allowed him to effectively manage diverse teams align project goa ls with strategic business objectives and deliver successful outcomes within tight deadlines At SABIC Pradeeps leadership role involves creating and executing detailed project delivery roadmaps ensuring that all work streams are on track and aligned with client expectations He is also adept at managing stakeholder communication and building strong relationships with clients ensuring that their vision is seamlessly translated into technical solutions His proactive approach ensures that risks are mi tigated resources are optimized and projects are completed on time and within budget  Business Automation Workflow BAW and Robotic Process Automation RPA Another facet of Pradeeps expertise lies in Business Automation Workflow BAW and Roboti c Process Automation RPA These technologies enable businesses to automate routine manual processes thereby improving operational efficiency and reducing costs Pradeep has worked extensively with RPA platforms to design and deploy automated workflows that streamline business operations and improve overall productivity He has implemented RPA solutions that automate data extraction report generation and process monitoring across various departments contributing to significant cost savings for his c lients Pradeeps ability to integrate RPA with other enterprise systems such as ERP and CRM platforms has been instrumental in creating a cohesive end toend automated business environment for his clients  Natural Language Processing NLP and De ep Learning with PyTorch Beyond cloud computing Pradeep is highly skilled in the realm of Natural Language Processing NLP and Deep Learning specifically using frameworks like PyTorch His interest in NLP led him to dive deep into areas such as text ana lytics sentiment analysis chatbot development and conversational AI He has applied his knowledge to develop robust language models capable of understanding and interpreting human language making him a key player in todays AI driven business landscape  Pradeeps proficiency with tools like LangChain Hugging Face Transformers and OpenAI models has allowed him to design advanced NLP solutions for tasks such as sentiment analysis question answering and information retrieval His experience with vecto r databases and Retrieval  Augmented Generation RAG has been particularly valuable in optimizing search and recommendation systems Whether its fine tuning pre trained models or building NLP systems from scratch Pradeeps expertise enables businesses to leverage AI to improve customer interactions and make data driven decisions  Chatbot Development and Sentiment Analysis In the growing field of AI driven customer service Pradeep offers specialized services in chatbot development and sentiment anal ysis His deep understanding of NLP frameworks coupled with his hands on experience with chatbot platforms enables him to build intelligent conversational systems that enhance user experiences These chatbots are capable of handling a wide range of quer ies offering instant responses and reducing customer service workloads In sentiment analysis Pradeep has developed models that help businesses gain valuable insights into customer emotions and opinions by analyzing vast amounts of unstructured text da ta By employing sophisticated NLP techniques he enables businesses to identify trends gauge customer satisfaction and make informed decisions based on real time sentiment analysis  Technical Proficiency Pradeeps technical proficiency is vast and spans multiple domains including  Cloud Platforms Azure AWS GCP  DevOps Tools Azure DevOps Pipelines Jenkins Docker Kubernetes Terraform Ansible  Programming Languages Python C NET  JavaScript  NLP and Deep Learning PyTorch TensorFlow Hugging Face LangChain OpenAI LLaMA Mistral  RPA Tools UiPath Blue Prism Automation Anywhere  Data Engineering and Analytics Apache Kafka Apache Spark Power BI  Database Management SQL Server MySQL Cosmos DB Vector Databases His hands on experience with these tools allows him to integrate technologies across diverse environments ensuring that solutions are robust scalable and adaptable to evolving business needs His ability to stay at the cutting edge of technology trends makes him a valuable asset to any organization  Client Focused Solutions and Innovation Throughout his career Pradeep has maintained a client focused approach understanding the specif ic needs of each business and tailoring solutions that meet their unique challenges His ability to bridge the gap between technical and non technical stakeholders ensures that his solutions are practical efficient and aligned with the clients vision B y consistently delivering innovative data  driven solutions Pradeep has helped his clients remain competitive in a rapidly changing market Pradeeps innovation is not limited to his technical abilities he also excels in mentoring and coaching teams fo stering a culture of learning and continuous improvement His ability to guide and empower teams to achieve excellence has made him a key contributor to the success of numerous projects  Conclusion Pradeep Kumar Sharma stands out as a leader in th e IT Cloud NLP and Deep Learning fields with a proven track record of delivering successful projects and driving business transformation His passion for innovation combined with his technical expertise and leadership abilities has made him an invalu able asset to every organization he has worked with As the tech industry continues to evolve Pradeep remains committed to staying at the cutting edge ensuring that the solutions he delivers not only meet current demands but also anticipate future needs\n"
          ]
        }
      ]
    },
    {
      "cell_type": "markdown",
      "source": [
        "**Split Text into Chunks**"
      ],
      "metadata": {
        "id": "hovXOSyRZCX9"
      }
    },
    {
      "cell_type": "code",
      "source": [
        "# Split the text into smaller chunks for embedding\n",
        "text_splitter = RecursiveCharacterTextSplitter(chunk_size=1000, chunk_overlap=5)\n",
        "split_docs = text_splitter.split_documents(documents)\n"
      ],
      "metadata": {
        "id": "VpJshXmEY9WA"
      },
      "execution_count": 15,
      "outputs": []
    },
    {
      "cell_type": "code",
      "source": [
        "import os\n",
        "from google.colab import drive\n",
        "drive.mount('/content/drive')\n",
        "with open('/content/drive/MyDrive/openai_key.txt', 'r') as file:\n",
        "    openai_api_key = file.read().strip()\n",
        "    os.environ[\"OPENAI_API_KEY\"] = openai_api_key"
      ],
      "metadata": {
        "colab": {
          "base_uri": "https://localhost:8080/"
        },
        "id": "UAYv2cnHpmz3",
        "outputId": "d70836bf-4f7f-4c7e-86bd-160fa622cdf4"
      },
      "execution_count": 20,
      "outputs": [
        {
          "output_type": "stream",
          "name": "stdout",
          "text": [
            "Drive already mounted at /content/drive; to attempt to forcibly remount, call drive.mount(\"/content/drive\", force_remount=True).\n"
          ]
        }
      ]
    },
    {
      "cell_type": "markdown",
      "source": [
        "**Embedding Model to Convert Text into Vectors**"
      ],
      "metadata": {
        "id": "l9BKC6_dovl3"
      }
    },
    {
      "cell_type": "code",
      "source": [
        "embedding = OpenAIEmbeddings()"
      ],
      "metadata": {
        "id": "ZV_adTa4oyE6"
      },
      "execution_count": 23,
      "outputs": []
    },
    {
      "cell_type": "markdown",
      "source": [
        "**Store the Vectors in ChromaDB**"
      ],
      "metadata": {
        "id": "iZsf1hTzpCfm"
      }
    },
    {
      "cell_type": "code",
      "source": [
        "# Create or connect to a ChromaDB vector store\n",
        "vector_store = Chroma.from_documents(documents=split_docs, embedding=embedding)\n",
        "\n",
        "# Save the vector store for later use\n",
        "vector_store.persist()"
      ],
      "metadata": {
        "colab": {
          "base_uri": "https://localhost:8080/"
        },
        "id": "4H3A2ZMRpElG",
        "outputId": "f4d24018-6825-46e8-cf0f-69f7aa4a6128"
      },
      "execution_count": 24,
      "outputs": [
        {
          "output_type": "stream",
          "name": "stderr",
          "text": [
            "<ipython-input-24-0f3645b912f9>:5: LangChainDeprecationWarning: Since Chroma 0.4.x the manual persistence method is no longer supported as docs are automatically persisted.\n",
            "  vector_store.persist()\n"
          ]
        }
      ]
    },
    {
      "cell_type": "markdown",
      "source": [
        "Query the Vector DB"
      ],
      "metadata": {
        "id": "BbL0LiRBpL2P"
      }
    },
    {
      "cell_type": "code",
      "source": [
        "query = \"Tell me about Pradeep Kumar Sharma's professional background\"\n",
        "results = vector_store.similarity_search(query)\n",
        "\n",
        "# Display results\n",
        "for result in results:\n",
        "    print(result.page_content)"
      ],
      "metadata": {
        "colab": {
          "base_uri": "https://localhost:8080/"
        },
        "id": "-AdHl6jMpaNR",
        "outputId": "e4cbf513-8a55-42be-ea30-5da9a75df90a"
      },
      "execution_count": 25,
      "outputs": [
        {
          "output_type": "stream",
          "name": "stdout",
          "text": [
            "Pradeep Kumar Sharma stands out as a leader in th e IT, Cloud, NLP, and Deep Learning fields, with a \n",
            "proven track record of delivering successful projects and driving business transformation. His \n",
            "passion for innovation, combined with his technical expertise and leadership abilities, has made him \n",
            "an invalu able asset to every organization he has worked with. As the tech industry continues to \n",
            "evolve, Pradeep remains committed to staying at the cutting edge, ensuring that the solutions he \n",
            "delivers not only meet current demands but also anticipate future needs.\n",
            "**Pradeep Kumar Sharma – IT Professional, Cloud Computing, NLP, and Deep Learning Expert**  \n",
            " \n",
            "Pradeep Kumar Sharma is a dynamic and versatile IT professional with over 17 years of extensive \n",
            "experience in the fields of Cloud computing, Natural Language Processing (NLP), and Deep Learning. \n",
            "His journey in the tech industry has seen him work with prest igious global organizations like COLT, \n",
            "SDS, and SABIC, where he honed his expertise in cutting -edge Microsoft technologies, Azure DevOps, \n",
            "and cloud infrastructures. Throughout his career, Pradeep has built a reputation for driving \n",
            "innovation, delivering re sults, and transforming complex business challenges into scalable and \n",
            "efficient solutions.  \n",
            " \n",
            "### **Professional Expertise and Experience**  \n",
            " \n",
            "#### Cloud Computing and Azure DevOps Mastery  \n",
            "Pradeep has been at the forefront of the cloud computing revolution, wo rking with Microsoft Azure,\n",
            "In sentiment analysis, Pradeep has developed models that help businesses gain valuable insights into \n",
            "customer emotions and opinions by analyzing vast amounts of unstructured text da ta. By employing \n",
            "sophisticated NLP techniques, he enables businesses to identify trends, gauge customer satisfaction, \n",
            "and make informed decisions based on real -time sentiment analysis.  \n",
            " \n",
            "### **Technical Proficiency**  \n",
            "Pradeep’s technical proficiency is vast and spans multiple domains, including:  \n",
            " \n",
            "- **Cloud Platforms:** Azure, AWS, GCP  \n",
            "- **DevOps Tools:** Azure DevOps Pipelines, Jenkins, Docker, Kubernetes, Terraform, Ansible  \n",
            "- **Programming Languages:** Python, C#, .NET , JavaScript  \n",
            "- **NLP and Deep Learning:** PyTorch, TensorFlow, Hugging Face, LangChain, OpenAI, LLaMA, \n",
            "Mistral  \n",
            "- **RPA Tools:** UiPath, Blue Prism, Automation Anywhere  \n",
            "- **Data Engineering and Analytics:** Apache Kafka, Apache Spark, Power BI  \n",
            "- **Database Management:** SQL Server, MySQL, Cosmos DB, Vector Databases\n",
            "one of the leading cloud platforms, to develop and manage complex cloud infrastructures. His in -\n",
            "depth knowledge of cloud architecture, automation, and orchestration has enabled him to design \n",
            "and implement scalable solutions for various organizations. His expertise extends to areas like \n",
            "virtualization, hybrid cloud environments, and containerization, ensuring seamless cloud migrations, \n",
            "optimizing cloud costs, and enhancing security and compliance measures.  \n",
            " \n",
            "At SABIC, a global lea der in diversified chemicals, Pradeep currently serves as a Cloud/Azure DevOps \n",
            "Consultant. In this role, he is responsible for the end -to-end management of cloud operations, \n",
            "overseeing infrastructure as a service (IaaS), platform as a service (PaaS), and s oftware as a service \n",
            "(SaaS) solutions. His focus is on optimizing cloud services to support business objectives, ensuring \n",
            "high availability, performance, and disaster recovery strategies. He has also worked extensively with\n"
          ]
        }
      ]
    },
    {
      "cell_type": "code",
      "source": [
        "vector_store.persist()"
      ],
      "metadata": {
        "id": "_C3ugko2qUdM"
      },
      "execution_count": 26,
      "outputs": []
    },
    {
      "cell_type": "markdown",
      "source": [
        "**Build an API Using Flask or FastAPI**"
      ],
      "metadata": {
        "id": "Ka9WZYvprOii"
      }
    },
    {
      "cell_type": "code",
      "source": [
        "from fastapi import FastAPI, UploadFile, File"
      ],
      "metadata": {
        "id": "9X_ua-MYrRYI"
      },
      "execution_count": 28,
      "outputs": []
    },
    {
      "cell_type": "code",
      "source": [
        "app = FastAPI()"
      ],
      "metadata": {
        "id": "1k0mVLd2rntW"
      },
      "execution_count": 29,
      "outputs": []
    },
    {
      "cell_type": "code",
      "source": [
        "@app.post(\"/query/\")\n",
        "async def query_text(query: str):\n",
        "    # Perform the query directly using your model or vector store\n",
        "    if vector_store is None:\n",
        "        return {\"message\": \"No documents have been uploaded yet.\"}\n",
        "\n",
        "    # Search the vector store for relevant documents based on the query\n",
        "    results = vector_store.similarity_search(query)\n",
        "\n",
        "    # Return the most relevant document contents\n",
        "    return {\"results\": [result.page_content for result in results]}"
      ],
      "metadata": {
        "id": "n5e8DxyFsT1O"
      },
      "execution_count": 31,
      "outputs": []
    }
  ]
}